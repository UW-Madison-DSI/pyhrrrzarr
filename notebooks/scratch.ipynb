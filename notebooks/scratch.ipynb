{
 "cells": [
  {
   "cell_type": "markdown",
   "metadata": {},
   "source": [
    "# define all locations, HRRR Variables, and time range, then fetch data"
   ]
  },
  {
   "cell_type": "code",
   "execution_count": null,
   "metadata": {},
   "outputs": [
    {
     "name": "stdout",
     "output_type": "stream",
     "text": [
      "created 2016 requests\n"
     ]
    }
   ],
   "source": [
    "from pathlib import Path\n",
    "from datetime import datetime\n",
    "\n",
    "from pyhrrrzarr.schema import csv_to_locations\n",
    "from pyhrrrzarr.hrrr.schema import HRRRVariable, VariableName, Level \n",
    "from pyhrrrzarr.hrrrzarr.requests import create_requests\n",
    "\n",
    "\n",
    "csv_path = Path(\"../data/WiscoNet pre-2024 stations.csv\").resolve()\n",
    "locations = csv_to_locations(csv_path)\n",
    "vars = [\n",
    "    HRRRVariable(name=VariableName.TMP, level=Level._2M_ABOVE_GROUND),\n",
    "    HRRRVariable(name=VariableName.DPT, level=Level._2M_ABOVE_GROUND),\n",
    "    HRRRVariable(name=VariableName.APCP_1hr_acc_fcst, level=Level._SURFACE, type_model=\"fcst\"),\n",
    "    HRRRVariable(name=VariableName.RH, level=Level._2M_ABOVE_GROUND),\n",
    "    HRRRVariable(name=VariableName.UGRD, level=Level._10M_ABOVE_GROUND),\n",
    "    HRRRVariable(name=VariableName.VGRD, level=Level._10M_ABOVE_GROUND),\n",
    "]\n",
    "start=datetime(2024, 1, 1, 0, 0)\n",
    "end=datetime(2024, 1, 2, 0, 0)\n",
    "end=datetime.now()\n",
    "requests = create_requests(\n",
    "    locations=locations,\n",
    "    variables=vars,\n",
    "    start=start,\n",
    "    end=end\n",
    ")\n",
    "print(f\"created {len(requests)} requests\")"
   ]
  },
  {
   "cell_type": "code",
   "execution_count": 2,
   "metadata": {},
   "outputs": [
    {
     "data": {
      "application/vnd.jupyter.widget-view+json": {
       "model_id": "5cdd74b4914a424e9b7e3f695a35a578",
       "version_major": 2,
       "version_minor": 0
      },
      "text/plain": [
       "Fetching HRRR data:   0%|          | 0/2016 [00:00<?, ?it/s]"
      ]
     },
     "metadata": {},
     "output_type": "display_data"
    }
   ],
   "source": [
    "from pyhrrrzarr.hrrrzarr.fetch import get_all_request_values\n",
    "\n",
    "await get_all_request_values(requests)\n"
   ]
  },
  {
   "cell_type": "code",
   "execution_count": 3,
   "metadata": {},
   "outputs": [
    {
     "data": {
      "text/html": [
       "<div>\n",
       "<style scoped>\n",
       "    .dataframe tbody tr th:only-of-type {\n",
       "        vertical-align: middle;\n",
       "    }\n",
       "\n",
       "    .dataframe tbody tr th {\n",
       "        vertical-align: top;\n",
       "    }\n",
       "\n",
       "    .dataframe thead th {\n",
       "        text-align: right;\n",
       "    }\n",
       "</style>\n",
       "<table border=\"1\" class=\"dataframe\">\n",
       "  <thead>\n",
       "    <tr style=\"text-align: right;\">\n",
       "      <th></th>\n",
       "      <th>location</th>\n",
       "      <th>lat</th>\n",
       "      <th>lon</th>\n",
       "      <th>run_hour</th>\n",
       "      <th>var_name</th>\n",
       "      <th>var_level</th>\n",
       "      <th>value</th>\n",
       "      <th>units</th>\n",
       "    </tr>\n",
       "  </thead>\n",
       "  <tbody>\n",
       "    <tr>\n",
       "      <th>2683</th>\n",
       "      <td>OJNR</td>\n",
       "      <td>43.025</td>\n",
       "      <td>-89.54</td>\n",
       "      <td>2024-01-01 23:00:00</td>\n",
       "      <td>WIND_DIR</td>\n",
       "      <td>10m_above_ground</td>\n",
       "      <td>236.218599</td>\n",
       "      <td>degrees</td>\n",
       "    </tr>\n",
       "    <tr>\n",
       "      <th>2684</th>\n",
       "      <td>RNLD</td>\n",
       "      <td>45.655</td>\n",
       "      <td>-89.27</td>\n",
       "      <td>2024-01-01 23:00:00</td>\n",
       "      <td>WIND_DIR</td>\n",
       "      <td>10m_above_ground</td>\n",
       "      <td>236.873897</td>\n",
       "      <td>degrees</td>\n",
       "    </tr>\n",
       "    <tr>\n",
       "      <th>2685</th>\n",
       "      <td>SODO</td>\n",
       "      <td>44.779</td>\n",
       "      <td>-87.36</td>\n",
       "      <td>2024-01-01 23:00:00</td>\n",
       "      <td>WIND_DIR</td>\n",
       "      <td>10m_above_ground</td>\n",
       "      <td>243.113293</td>\n",
       "      <td>degrees</td>\n",
       "    </tr>\n",
       "    <tr>\n",
       "      <th>2686</th>\n",
       "      <td>SPNR</td>\n",
       "      <td>45.827</td>\n",
       "      <td>-91.86</td>\n",
       "      <td>2024-01-01 23:00:00</td>\n",
       "      <td>WIND_DIR</td>\n",
       "      <td>10m_above_ground</td>\n",
       "      <td>207.520608</td>\n",
       "      <td>degrees</td>\n",
       "    </tr>\n",
       "    <tr>\n",
       "      <th>2687</th>\n",
       "      <td>WCRS</td>\n",
       "      <td>44.185</td>\n",
       "      <td>-90.74</td>\n",
       "      <td>2024-01-01 23:00:00</td>\n",
       "      <td>WIND_DIR</td>\n",
       "      <td>10m_above_ground</td>\n",
       "      <td>228.188670</td>\n",
       "      <td>degrees</td>\n",
       "    </tr>\n",
       "  </tbody>\n",
       "</table>\n",
       "</div>"
      ],
      "text/plain": [
       "     location     lat    lon            run_hour  var_name         var_level  \\\n",
       "2683     OJNR  43.025 -89.54 2024-01-01 23:00:00  WIND_DIR  10m_above_ground   \n",
       "2684     RNLD  45.655 -89.27 2024-01-01 23:00:00  WIND_DIR  10m_above_ground   \n",
       "2685     SODO  44.779 -87.36 2024-01-01 23:00:00  WIND_DIR  10m_above_ground   \n",
       "2686     SPNR  45.827 -91.86 2024-01-01 23:00:00  WIND_DIR  10m_above_ground   \n",
       "2687     WCRS  44.185 -90.74 2024-01-01 23:00:00  WIND_DIR  10m_above_ground   \n",
       "\n",
       "           value    units  \n",
       "2683  236.218599  degrees  \n",
       "2684  236.873897  degrees  \n",
       "2685  243.113293  degrees  \n",
       "2686  207.520608  degrees  \n",
       "2687  228.188670  degrees  "
      ]
     },
     "execution_count": 3,
     "metadata": {},
     "output_type": "execute_result"
    }
   ],
   "source": [
    "from pyhrrrzarr.hrrrzarr.postprocess import (\n",
    "    requests_to_df, add_wind_speed_and_direction\n",
    ")\n",
    "\n",
    "df = requests_to_df([r for r in requests if r.value is not None])\n",
    "df = add_wind_speed_and_direction(df)\n",
    "df.tail()"
   ]
  },
  {
   "cell_type": "code",
   "execution_count": 4,
   "metadata": {},
   "outputs": [],
   "source": [
    "df.to_parquet(\"wisco.parquet\")\n",
    "df.to_csv(\"wisco.csv\")"
   ]
  }
 ],
 "metadata": {
  "kernelspec": {
   "display_name": "default",
   "language": "python",
   "name": "python3"
  },
  "language_info": {
   "codemirror_mode": {
    "name": "ipython",
    "version": 3
   },
   "file_extension": ".py",
   "mimetype": "text/x-python",
   "name": "python",
   "nbconvert_exporter": "python",
   "pygments_lexer": "ipython3",
   "version": "3.13.0"
  }
 },
 "nbformat": 4,
 "nbformat_minor": 2
}
