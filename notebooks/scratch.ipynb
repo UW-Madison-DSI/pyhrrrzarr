{
 "cells": [
  {
   "cell_type": "markdown",
   "metadata": {},
   "source": [
    "# define all locations, HRRR Variables, and time range, then fetch data"
   ]
  },
  {
   "cell_type": "markdown",
   "metadata": {},
   "source": [
    "## imports"
   ]
  },
  {
   "cell_type": "code",
   "execution_count": 3,
   "metadata": {},
   "outputs": [],
   "source": [
    "import logging\n",
    "from pathlib import Path\n",
    "from datetime import datetime\n",
    "\n",
    "from pyhrrrzarr.schema import csv_to_locations\n",
    "from pyhrrrzarr.hrrr.schema import HRRRVariable, VariableName, Level \n",
    "from pyhrrrzarr.hrrrzarr.requests import create_requests\n",
    "from pyhrrrzarr.hrrrzarr.fetch import get_all_request_values\n",
    "from pyhrrrzarr.hrrrzarr.postprocess import requests_to_df, add_wind_speed_and_direction\n",
    "\n",
    "\n",
    "\n",
    "logger = logging.getLogger(__name__)\n",
    "logging.basicConfig(level=logging.INFO)"
   ]
  },
  {
   "cell_type": "markdown",
   "metadata": {},
   "source": [
    "## create all requests for data"
   ]
  },
  {
   "cell_type": "code",
   "execution_count": 4,
   "metadata": {},
   "outputs": [
    {
     "name": "stderr",
     "output_type": "stream",
     "text": [
      "INFO:root:Created 624960 requests\n"
     ]
    }
   ],
   "source": [
    "csv_path = Path(\"../data/WiscoNet pre-2024 stations.csv\").resolve()\n",
    "locations = csv_to_locations(csv_path)\n",
    "vars = [\n",
    "    HRRRVariable(name=VariableName.TMP, level=Level._2M_ABOVE_GROUND),\n",
    "    HRRRVariable(name=VariableName.DPT, level=Level._2M_ABOVE_GROUND),\n",
    "    HRRRVariable(name=VariableName.APCP_1hr_acc_fcst, level=Level._SURFACE, type_model=\"fcst\"),\n",
    "    HRRRVariable(name=VariableName.RH, level=Level._2M_ABOVE_GROUND),\n",
    "    HRRRVariable(name=VariableName.UGRD, level=Level._10M_ABOVE_GROUND),\n",
    "    HRRRVariable(name=VariableName.VGRD, level=Level._10M_ABOVE_GROUND),\n",
    "]\n",
    "start=datetime(2024, 1, 1, 0, 0)\n",
    "# end=datetime(2024, 9, 2, 0, 0)\n",
    "end=datetime.now()\n",
    "requests = create_requests(\n",
    "    locations=locations,\n",
    "    variables=vars,\n",
    "    start=start,\n",
    "    end=end\n",
    ")"
   ]
  },
  {
   "cell_type": "code",
   "execution_count": 5,
   "metadata": {},
   "outputs": [
    {
     "data": {
      "text/plain": [
       "[Location(lat=43.297, lon=-89.38, name='ALTN'),\n",
       " Location(lat=42.899, lon=-88.74, name='COSP'),\n",
       " Location(lat=43.345, lon=-89.71, name='DFRC'),\n",
       " Location(lat=44.718, lon=-90.6, name='GNWD'),\n",
       " Location(lat=44.119, lon=-89.53, name='HNCK'),\n",
       " Location(lat=45.841, lon=-89.67, name='KEMP'),\n",
       " Location(lat=44.402, lon=-87.66, name='KWNE'),\n",
       " Location(lat=42.83, lon=-90.79, name='LNCT'),\n",
       " Location(lat=44.76, lon=-90.1, name='MRFD'),\n",
       " Location(lat=43.025, lon=-89.54, name='OJNR'),\n",
       " Location(lat=45.655, lon=-89.27, name='RNLD'),\n",
       " Location(lat=44.779, lon=-87.36, name='SODO'),\n",
       " Location(lat=45.827, lon=-91.86, name='SPNR'),\n",
       " Location(lat=44.185, lon=-90.74, name='WCRS')]"
      ]
     },
     "execution_count": 5,
     "metadata": {},
     "output_type": "execute_result"
    }
   ],
   "source": [
    "locations"
   ]
  },
  {
   "cell_type": "markdown",
   "metadata": {},
   "source": [
    "# pull data from s3 and/or local cache"
   ]
  },
  {
   "cell_type": "code",
   "execution_count": 3,
   "metadata": {},
   "outputs": [
    {
     "data": {
      "application/vnd.jupyter.widget-view+json": {
       "model_id": "4e1cbfad6fbf4c8ca7a9edc95576631b",
       "version_major": 2,
       "version_minor": 0
      },
      "text/plain": [
       "Fetching HRRR data:   0%|          | 0/624960 [00:00<?, ?it/s]"
      ]
     },
     "metadata": {},
     "output_type": "display_data"
    },
    {
     "data": {
      "application/vnd.jupyter.widget-view+json": {
       "model_id": "021bbd6ecb684f9a9d4eed662269e7fc",
       "version_major": 2,
       "version_minor": 0
      },
      "text/plain": [
       "decompressing:   0%|          | 0/624960 [00:00<?, ?it/s]"
      ]
     },
     "metadata": {},
     "output_type": "display_data"
    }
   ],
   "source": [
    "# around 4 hours for 620928 requests from s3, same number of requests in around 20 minutes from local cache\n",
    "requests = await get_all_request_values(requests, batch_size=5500)\n"
   ]
  },
  {
   "cell_type": "markdown",
   "metadata": {},
   "source": [
    "# post process data to dataframe, calculate wind speed and direction"
   ]
  },
  {
   "cell_type": "code",
   "execution_count": 4,
   "metadata": {},
   "outputs": [
    {
     "name": "stderr",
     "output_type": "stream",
     "text": [
      "INFO:pyhrrrzarr.hrrrzarr.postprocess:Converted 624960 requests to DataFrame rows\n",
      "INFO:pyhrrrzarr.hrrrzarr.postprocess:Added 104160 wind speed and 104160 wind direction rows\n"
     ]
    },
    {
     "data": {
      "text/html": [
       "<div>\n",
       "<style scoped>\n",
       "    .dataframe tbody tr th:only-of-type {\n",
       "        vertical-align: middle;\n",
       "    }\n",
       "\n",
       "    .dataframe tbody tr th {\n",
       "        vertical-align: top;\n",
       "    }\n",
       "\n",
       "    .dataframe thead th {\n",
       "        text-align: right;\n",
       "    }\n",
       "</style>\n",
       "<table border=\"1\" class=\"dataframe\">\n",
       "  <thead>\n",
       "    <tr style=\"text-align: right;\">\n",
       "      <th></th>\n",
       "      <th>location</th>\n",
       "      <th>lat</th>\n",
       "      <th>lon</th>\n",
       "      <th>run_hour</th>\n",
       "      <th>var_name</th>\n",
       "      <th>var_level</th>\n",
       "      <th>value</th>\n",
       "      <th>units</th>\n",
       "    </tr>\n",
       "  </thead>\n",
       "  <tbody>\n",
       "    <tr>\n",
       "      <th>833275</th>\n",
       "      <td>KWNE</td>\n",
       "      <td>44.402</td>\n",
       "      <td>-87.66</td>\n",
       "      <td>2024-11-05 23:00:00</td>\n",
       "      <td>WIND_DIR</td>\n",
       "      <td>10m_above_ground</td>\n",
       "      <td>175.864277</td>\n",
       "      <td>degrees</td>\n",
       "    </tr>\n",
       "    <tr>\n",
       "      <th>833276</th>\n",
       "      <td>RNLD</td>\n",
       "      <td>45.655</td>\n",
       "      <td>-89.27</td>\n",
       "      <td>2024-11-05 23:00:00</td>\n",
       "      <td>WIND_DIR</td>\n",
       "      <td>10m_above_ground</td>\n",
       "      <td>60.844721</td>\n",
       "      <td>degrees</td>\n",
       "    </tr>\n",
       "    <tr>\n",
       "      <th>833277</th>\n",
       "      <td>SODO</td>\n",
       "      <td>44.779</td>\n",
       "      <td>-87.36</td>\n",
       "      <td>2024-11-05 23:00:00</td>\n",
       "      <td>WIND_DIR</td>\n",
       "      <td>10m_above_ground</td>\n",
       "      <td>126.089714</td>\n",
       "      <td>degrees</td>\n",
       "    </tr>\n",
       "    <tr>\n",
       "      <th>833278</th>\n",
       "      <td>SPNR</td>\n",
       "      <td>45.827</td>\n",
       "      <td>-91.86</td>\n",
       "      <td>2024-11-05 23:00:00</td>\n",
       "      <td>WIND_DIR</td>\n",
       "      <td>10m_above_ground</td>\n",
       "      <td>324.536585</td>\n",
       "      <td>degrees</td>\n",
       "    </tr>\n",
       "    <tr>\n",
       "      <th>833279</th>\n",
       "      <td>WCRS</td>\n",
       "      <td>44.185</td>\n",
       "      <td>-90.74</td>\n",
       "      <td>2024-11-05 23:00:00</td>\n",
       "      <td>WIND_DIR</td>\n",
       "      <td>10m_above_ground</td>\n",
       "      <td>290.900604</td>\n",
       "      <td>degrees</td>\n",
       "    </tr>\n",
       "  </tbody>\n",
       "</table>\n",
       "</div>"
      ],
      "text/plain": [
       "       location     lat    lon            run_hour  var_name  \\\n",
       "833275     KWNE  44.402 -87.66 2024-11-05 23:00:00  WIND_DIR   \n",
       "833276     RNLD  45.655 -89.27 2024-11-05 23:00:00  WIND_DIR   \n",
       "833277     SODO  44.779 -87.36 2024-11-05 23:00:00  WIND_DIR   \n",
       "833278     SPNR  45.827 -91.86 2024-11-05 23:00:00  WIND_DIR   \n",
       "833279     WCRS  44.185 -90.74 2024-11-05 23:00:00  WIND_DIR   \n",
       "\n",
       "               var_level       value    units  \n",
       "833275  10m_above_ground  175.864277  degrees  \n",
       "833276  10m_above_ground   60.844721  degrees  \n",
       "833277  10m_above_ground  126.089714  degrees  \n",
       "833278  10m_above_ground  324.536585  degrees  \n",
       "833279  10m_above_ground  290.900604  degrees  "
      ]
     },
     "execution_count": 4,
     "metadata": {},
     "output_type": "execute_result"
    }
   ],
   "source": [
    "df = requests_to_df([r for r in requests if r.value is not None])\n",
    "df = add_wind_speed_and_direction(df)\n",
    "df.tail()"
   ]
  },
  {
   "cell_type": "markdown",
   "metadata": {},
   "source": [
    "# persist postprocessed data to disk"
   ]
  },
  {
   "cell_type": "code",
   "execution_count": 7,
   "metadata": {},
   "outputs": [],
   "source": [
    "csv_path = Path(\"../data/wisconet_pre_2024_stations_HRRR_data.csv\").resolve()\n",
    "parquet_path = csv_path.with_suffix(\".parquet\")\n",
    "df.to_parquet(parquet_path)\n",
    "df.to_csv(csv_path)"
   ]
  },
  {
   "cell_type": "code",
   "execution_count": 2,
   "metadata": {},
   "outputs": [
    {
     "data": {
      "application/vnd.jupyter.widget-view+json": {
       "model_id": "b138943a7fad45b690d0f0e6ad911673",
       "version_major": 2,
       "version_minor": 0
      },
      "text/plain": [
       "Fetching HRRR data:   0%|          | 0/288 [00:00<?, ?it/s]"
      ]
     },
     "metadata": {},
     "output_type": "display_data"
    },
    {
     "data": {
      "application/vnd.jupyter.widget-view+json": {
       "model_id": "24a1b625c3534a05ad1c2f9cbf172606",
       "version_major": 2,
       "version_minor": 0
      },
      "text/plain": [
       "decompressing:   0%|          | 0/288 [00:00<?, ?it/s]"
      ]
     },
     "metadata": {},
     "output_type": "display_data"
    },
    {
     "data": {
      "text/html": [
       "<div>\n",
       "<style scoped>\n",
       "    .dataframe tbody tr th:only-of-type {\n",
       "        vertical-align: middle;\n",
       "    }\n",
       "\n",
       "    .dataframe tbody tr th {\n",
       "        vertical-align: top;\n",
       "    }\n",
       "\n",
       "    .dataframe thead th {\n",
       "        text-align: right;\n",
       "    }\n",
       "</style>\n",
       "<table border=\"1\" class=\"dataframe\">\n",
       "  <thead>\n",
       "    <tr style=\"text-align: right;\">\n",
       "      <th></th>\n",
       "      <th>location</th>\n",
       "      <th>lat</th>\n",
       "      <th>lon</th>\n",
       "      <th>run_hour</th>\n",
       "      <th>var_name</th>\n",
       "      <th>var_level</th>\n",
       "      <th>value</th>\n",
       "      <th>units</th>\n",
       "    </tr>\n",
       "  </thead>\n",
       "  <tbody>\n",
       "    <tr>\n",
       "      <th>0</th>\n",
       "      <td>Seattle</td>\n",
       "      <td>47.6062</td>\n",
       "      <td>-122.3321</td>\n",
       "      <td>2024-10-01 00:00:00</td>\n",
       "      <td>TMP</td>\n",
       "      <td>2m_above_ground</td>\n",
       "      <td>290.045135</td>\n",
       "      <td>K</td>\n",
       "    </tr>\n",
       "    <tr>\n",
       "      <th>1</th>\n",
       "      <td>Madison</td>\n",
       "      <td>43.0731</td>\n",
       "      <td>-89.4012</td>\n",
       "      <td>2024-10-01 00:00:00</td>\n",
       "      <td>TMP</td>\n",
       "      <td>2m_above_ground</td>\n",
       "      <td>296.420135</td>\n",
       "      <td>K</td>\n",
       "    </tr>\n",
       "    <tr>\n",
       "      <th>2</th>\n",
       "      <td>Madison</td>\n",
       "      <td>43.0731</td>\n",
       "      <td>-89.4012</td>\n",
       "      <td>2024-10-01 01:00:00</td>\n",
       "      <td>APCP_1hr_acc_fcst</td>\n",
       "      <td>surface</td>\n",
       "      <td>0.000000</td>\n",
       "      <td>kg/m^2</td>\n",
       "    </tr>\n",
       "    <tr>\n",
       "      <th>3</th>\n",
       "      <td>Seattle</td>\n",
       "      <td>47.6062</td>\n",
       "      <td>-122.3321</td>\n",
       "      <td>2024-10-01 01:00:00</td>\n",
       "      <td>APCP_1hr_acc_fcst</td>\n",
       "      <td>surface</td>\n",
       "      <td>0.000000</td>\n",
       "      <td>kg/m^2</td>\n",
       "    </tr>\n",
       "    <tr>\n",
       "      <th>4</th>\n",
       "      <td>Madison</td>\n",
       "      <td>43.0731</td>\n",
       "      <td>-89.4012</td>\n",
       "      <td>2024-10-01 01:00:00</td>\n",
       "      <td>RH</td>\n",
       "      <td>2m_above_ground</td>\n",
       "      <td>67.199997</td>\n",
       "      <td>%</td>\n",
       "    </tr>\n",
       "  </tbody>\n",
       "</table>\n",
       "</div>"
      ],
      "text/plain": [
       "  location      lat       lon            run_hour           var_name  \\\n",
       "0  Seattle  47.6062 -122.3321 2024-10-01 00:00:00                TMP   \n",
       "1  Madison  43.0731  -89.4012 2024-10-01 00:00:00                TMP   \n",
       "2  Madison  43.0731  -89.4012 2024-10-01 01:00:00  APCP_1hr_acc_fcst   \n",
       "3  Seattle  47.6062 -122.3321 2024-10-01 01:00:00  APCP_1hr_acc_fcst   \n",
       "4  Madison  43.0731  -89.4012 2024-10-01 01:00:00                 RH   \n",
       "\n",
       "         var_level       value   units  \n",
       "0  2m_above_ground  290.045135       K  \n",
       "1  2m_above_ground  296.420135       K  \n",
       "2          surface    0.000000  kg/m^2  \n",
       "3          surface    0.000000  kg/m^2  \n",
       "4  2m_above_ground   67.199997       %  "
      ]
     },
     "execution_count": 2,
     "metadata": {},
     "output_type": "execute_result"
    }
   ],
   "source": [
    "import logging\n",
    "from datetime import datetime\n",
    "\n",
    "from pyhrrrzarr.main import fetch_hrrr_data\n",
    "from pyhrrrzarr.hrrr.schema import HRRRVariable, VariableName, Level\n",
    "from pyhrrrzarr.schema import Location\n",
    "\n",
    "\n",
    "# choose HRRR variables to download\n",
    "variables = [\n",
    "    HRRRVariable(name=VariableName.TMP, level=Level._2M_ABOVE_GROUND),\n",
    "    HRRRVariable(name=VariableName.DPT, level=Level._2M_ABOVE_GROUND),\n",
    "    HRRRVariable(name=VariableName.APCP_1hr_acc_fcst, level=Level._SURFACE, type_model=\"fcst\"),\n",
    "    HRRRVariable(name=VariableName.RH, level=Level._2M_ABOVE_GROUND),\n",
    "    HRRRVariable(name=VariableName.UGRD, level=Level._10M_ABOVE_GROUND),\n",
    "    HRRRVariable(name=VariableName.VGRD, level=Level._10M_ABOVE_GROUND),\n",
    "]\n",
    "# choose locations to download those variables for\n",
    "locations = [\n",
    "    Location(name=\"Madison\", lat=43.0731, lon=-89.4012),\n",
    "    Location(name=\"Seattle\", lat=47.6062, lon=-122.3321),\n",
    "]\n",
    "# choose timeframe to download variables\n",
    "start=datetime(2024, 10, 1, 0, 0)\n",
    "end=datetime(2024, 10, 2, 0, 0)\n",
    "\n",
    "# pull data\n",
    "df = fetch_hrrr_data(variables=variables, locations=locations, start=start, end=end)\n",
    "df.head()\n"
   ]
  },
  {
   "cell_type": "code",
   "execution_count": null,
   "metadata": {},
   "outputs": [],
   "source": []
  }
 ],
 "metadata": {
  "kernelspec": {
   "display_name": "default",
   "language": "python",
   "name": "python3"
  },
  "language_info": {
   "codemirror_mode": {
    "name": "ipython",
    "version": 3
   },
   "file_extension": ".py",
   "mimetype": "text/x-python",
   "name": "python",
   "nbconvert_exporter": "python",
   "pygments_lexer": "ipython3",
   "version": "3.13.0"
  }
 },
 "nbformat": 4,
 "nbformat_minor": 2
}
