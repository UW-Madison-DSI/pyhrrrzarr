{
 "cells": [
  {
   "cell_type": "code",
   "execution_count": 1,
   "metadata": {},
   "outputs": [
    {
     "name": "stderr",
     "output_type": "stream",
     "text": [
      "/Users/imcconnell/PycharmProjects/pyhrrrzarr/.pixi/envs/default/lib/python3.13/site-packages/pydantic/_internal/_fields.py:132: UserWarning: Field \"model_type\" in HRRRVariable has conflict with protected namespace \"model_\".\n",
      "\n",
      "You may be able to resolve this warning by setting `model_config['protected_namespaces'] = ()`.\n",
      "  warnings.warn(\n"
     ]
    },
    {
     "name": "stdout",
     "output_type": "stream",
     "text": [
      "created 336 requests\n"
     ]
    },
    {
     "name": "stderr",
     "output_type": "stream",
     "text": [
      "/Users/imcconnell/PycharmProjects/pyhrrrzarr/.pixi/envs/default/lib/python3.13/site-packages/pydantic/_internal/_fields.py:132: UserWarning: Field \"model_type\" in ZarrId has conflict with protected namespace \"model_\".\n",
      "\n",
      "You may be able to resolve this warning by setting `model_config['protected_namespaces'] = ()`.\n",
      "  warnings.warn(\n"
     ]
    }
   ],
   "source": [
    "from pathlib import Path\n",
    "from datetime import datetime\n",
    "\n",
    "from pyhrrrzarr.schema import csv_to_locations\n",
    "from pyhrrrzarr.hrrr.schema import HRRRVariable, VariableName, Level \n",
    "from pyhrrrzarr.hrrrzarr.requests import create_requests\n",
    "\n",
    "\n",
    "csv_path = Path(\"../data/WiscoNet pre-2024 stations.csv\").resolve()\n",
    "locations = csv_to_locations(csv_path)\n",
    "vars = [\n",
    "    HRRRVariable(name=VariableName.APCP_1hr_acc_fcst, level=Level._SURFACE, model_type=\"fcst\"),\n",
    "]\n",
    "start=datetime(2024, 1, 1, 0, 0)\n",
    "end=datetime(2024, 1, 2, 0, 0)\n",
    "# end=datetime.now()\n",
    "\n",
    "requests = create_requests(\n",
    "    locations=locations,\n",
    "    variables=vars,\n",
    "    start=start,\n",
    "    end=end\n",
    ")\n",
    "\n",
    "print(f\"created {len(requests)} requests\")"
   ]
  },
  {
   "cell_type": "code",
   "execution_count": 2,
   "metadata": {},
   "outputs": [
    {
     "name": "stderr",
     "output_type": "stream",
     "text": [
      "/Users/imcconnell/PycharmProjects/pyhrrrzarr/.pixi/envs/default/lib/python3.13/site-packages/tqdm/auto.py:21: TqdmWarning: IProgress not found. Please update jupyter and ipywidgets. See https://ipywidgets.readthedocs.io/en/stable/user_install.html\n",
      "  from .autonotebook import tqdm as notebook_tqdm\n",
      "Fetching HRRR data: 100%|██████████| 336/336 [00:01<00:00, 208.96it/s]\n"
     ]
    }
   ],
   "source": [
    "from pyhrrrzarr.hrrrzarr.fetch import get_all_request_values\n",
    "\n",
    "await get_all_request_values(requests)"
   ]
  },
  {
   "cell_type": "code",
   "execution_count": 3,
   "metadata": {},
   "outputs": [
    {
     "data": {
      "text/html": [
       "<div>\n",
       "<style scoped>\n",
       "    .dataframe tbody tr th:only-of-type {\n",
       "        vertical-align: middle;\n",
       "    }\n",
       "\n",
       "    .dataframe tbody tr th {\n",
       "        vertical-align: top;\n",
       "    }\n",
       "\n",
       "    .dataframe thead th {\n",
       "        text-align: right;\n",
       "    }\n",
       "</style>\n",
       "<table border=\"1\" class=\"dataframe\">\n",
       "  <thead>\n",
       "    <tr style=\"text-align: right;\">\n",
       "      <th></th>\n",
       "      <th>location</th>\n",
       "      <th>lat</th>\n",
       "      <th>lon</th>\n",
       "      <th>run_hour</th>\n",
       "      <th>var_name</th>\n",
       "      <th>var_level</th>\n",
       "      <th>value</th>\n",
       "      <th>units</th>\n",
       "    </tr>\n",
       "  </thead>\n",
       "  <tbody>\n",
       "    <tr>\n",
       "      <th>0</th>\n",
       "      <td>ALTN</td>\n",
       "      <td>43.297</td>\n",
       "      <td>-89.38</td>\n",
       "      <td>2024-01-01</td>\n",
       "      <td>APCP_1hr_acc_fcst</td>\n",
       "      <td>surface</td>\n",
       "      <td>0.020004</td>\n",
       "      <td>kg/m^2</td>\n",
       "    </tr>\n",
       "    <tr>\n",
       "      <th>1</th>\n",
       "      <td>COSP</td>\n",
       "      <td>42.899</td>\n",
       "      <td>-88.74</td>\n",
       "      <td>2024-01-01</td>\n",
       "      <td>APCP_1hr_acc_fcst</td>\n",
       "      <td>surface</td>\n",
       "      <td>0.008003</td>\n",
       "      <td>kg/m^2</td>\n",
       "    </tr>\n",
       "    <tr>\n",
       "      <th>2</th>\n",
       "      <td>DFRC</td>\n",
       "      <td>43.345</td>\n",
       "      <td>-89.71</td>\n",
       "      <td>2024-01-01</td>\n",
       "      <td>APCP_1hr_acc_fcst</td>\n",
       "      <td>surface</td>\n",
       "      <td>0.000000</td>\n",
       "      <td>kg/m^2</td>\n",
       "    </tr>\n",
       "    <tr>\n",
       "      <th>3</th>\n",
       "      <td>GNWD</td>\n",
       "      <td>44.718</td>\n",
       "      <td>-90.60</td>\n",
       "      <td>2024-01-01</td>\n",
       "      <td>APCP_1hr_acc_fcst</td>\n",
       "      <td>surface</td>\n",
       "      <td>0.001000</td>\n",
       "      <td>kg/m^2</td>\n",
       "    </tr>\n",
       "    <tr>\n",
       "      <th>4</th>\n",
       "      <td>HNCK</td>\n",
       "      <td>44.119</td>\n",
       "      <td>-89.53</td>\n",
       "      <td>2024-01-01</td>\n",
       "      <td>APCP_1hr_acc_fcst</td>\n",
       "      <td>surface</td>\n",
       "      <td>0.001000</td>\n",
       "      <td>kg/m^2</td>\n",
       "    </tr>\n",
       "  </tbody>\n",
       "</table>\n",
       "</div>"
      ],
      "text/plain": [
       "  location     lat    lon   run_hour           var_name var_level     value  \\\n",
       "0     ALTN  43.297 -89.38 2024-01-01  APCP_1hr_acc_fcst   surface  0.020004   \n",
       "1     COSP  42.899 -88.74 2024-01-01  APCP_1hr_acc_fcst   surface  0.008003   \n",
       "2     DFRC  43.345 -89.71 2024-01-01  APCP_1hr_acc_fcst   surface  0.000000   \n",
       "3     GNWD  44.718 -90.60 2024-01-01  APCP_1hr_acc_fcst   surface  0.001000   \n",
       "4     HNCK  44.119 -89.53 2024-01-01  APCP_1hr_acc_fcst   surface  0.001000   \n",
       "\n",
       "    units  \n",
       "0  kg/m^2  \n",
       "1  kg/m^2  \n",
       "2  kg/m^2  \n",
       "3  kg/m^2  \n",
       "4  kg/m^2  "
      ]
     },
     "execution_count": 3,
     "metadata": {},
     "output_type": "execute_result"
    }
   ],
   "source": [
    "from pyhrrrzarr.hrrrzarr.postprocess import requests_to_df\n",
    "\n",
    "df = requests_to_df(requests)\n",
    "df.head()"
   ]
  },
  {
   "cell_type": "code",
   "execution_count": 7,
   "metadata": {},
   "outputs": [
    {
     "data": {
      "text/plain": [
       "48"
      ]
     },
     "execution_count": 7,
     "metadata": {},
     "output_type": "execute_result"
    }
   ],
   "source": [
    "len(requests[0].value)"
   ]
  }
 ],
 "metadata": {
  "kernelspec": {
   "display_name": "default",
   "language": "python",
   "name": "python3"
  },
  "language_info": {
   "codemirror_mode": {
    "name": "ipython",
    "version": 3
   },
   "file_extension": ".py",
   "mimetype": "text/x-python",
   "name": "python",
   "nbconvert_exporter": "python",
   "pygments_lexer": "ipython3",
   "version": "3.13.0"
  }
 },
 "nbformat": 4,
 "nbformat_minor": 2
}
